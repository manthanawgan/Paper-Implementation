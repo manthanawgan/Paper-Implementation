{
  "nbformat": 4,
  "nbformat_minor": 0,
  "metadata": {
    "colab": {
      "provenance": [],
      "authorship_tag": "ABX9TyPg/JeGHMx8agQuVgeeEyMc",
      "include_colab_link": true
    },
    "kernelspec": {
      "name": "python3",
      "display_name": "Python 3"
    },
    "language_info": {
      "name": "python"
    }
  },
  "cells": [
    {
      "cell_type": "markdown",
      "metadata": {
        "id": "view-in-github",
        "colab_type": "text"
      },
      "source": [
        "<a href=\"https://colab.research.google.com/github/manthanawgan/Paper-Implementation/blob/main/gpt4o_from_scratch.ipynb\" target=\"_parent\"><img src=\"https://colab.research.google.com/assets/colab-badge.svg\" alt=\"Open In Colab\"/></a>"
      ]
    },
    {
      "cell_type": "markdown",
      "source": [
        "### Trying to implement gpt4o from scratch"
      ],
      "metadata": {
        "id": "fvceV0w7QN9D"
      }
    },
    {
      "cell_type": "code",
      "execution_count": null,
      "metadata": {
        "id": "jFqdKDKVAhi8",
        "colab": {
          "base_uri": "https://localhost:8080/"
        },
        "outputId": "475b99b2-7533-4074-c9fc-44ebd12186e7"
      },
      "outputs": [
        {
          "output_type": "stream",
          "name": "stdout",
          "text": [
            "2.6.0+cu124\n"
          ]
        }
      ],
      "source": [
        "#nn --> building blocks of neural network\n",
        "#functional as f --> for activation function ig\n",
        "#.optim --> for optimization (ig changing params, weights,bias from gradient-descent/backprop)\n",
        "#math --> for mathematical calculations\n",
        "\n",
        "\n",
        "import torch\n",
        "import torch.nn as nn\n",
        "from torch.nn import functional as F\n",
        "import torch.optim as optim\n",
        "import math\n",
        "import os\n",
        "\n",
        "\n",
        "torch.manual_seed(42)\n",
        "\n",
        "print(torch.__version__)"
      ]
    },
    {
      "cell_type": "code",
      "source": [
        "#making a raw corpus\n",
        "\n",
        "raw_corpus = \"\"\"\n",
        "Alice was beginning to get very tired of sitting by her sister on the\n",
        "bank, and of having nothing to do: once or twice she had peeped into the\n",
        "book her sister was reading, but it had no pictures or conversations in\n",
        "it, 'and what is the use of a book,' thought Alice 'without pictures or\n",
        "conversation?'\n",
        "So she was considering in her own mind (as well as she could, for the\n",
        "hot day made her feel very sleepy and stupid), whether the pleasure\n",
        "of making a daisy-chain would be worth the trouble of getting up and\n",
        "picking the daisies, when suddenly a White Rabbit with pink eyes ran\n",
        "close by her.\n",
        "\"\"\"\n",
        "\n",
        "length_of_corpus = len(raw_corpus)\n",
        "\n",
        "print(f\"the length of corpus is: {length_of_corpus}\")\n"
      ],
      "metadata": {
        "colab": {
          "base_uri": "https://localhost:8080/"
        },
        "id": "2OgtMbUPQMsU",
        "outputId": "fc94efef-74ac-41da-e201-1244302be1c7"
      },
      "execution_count": null,
      "outputs": [
        {
          "output_type": "stream",
          "name": "stdout",
          "text": [
            "the length of corpus is: 593\n"
          ]
        }
      ]
    },
    {
      "cell_type": "code",
      "source": [
        "#tokenization\n",
        "\n",
        "#finding all unique characters in the corpus\n",
        "chars = sorted(list(set(raw_corpus)))   #set --> is a unordered collection of unique items, it removes all the dublicate elements --- at last used sort to sort them\n",
        "vocab_size = len(chars)\n",
        "\n",
        "#chnaging char_to_int (encoding)\n",
        "char_to_int = {ch:i for i, ch in enumerate(chars)}\n",
        "\n",
        "#int_to_char (decoding)\n",
        "int_to_char = {i:ch for i, ch in enumerate(chars)}\n",
        "\n",
        "print(char_to_int)\n",
        "print(int_to_char)"
      ],
      "metadata": {
        "colab": {
          "base_uri": "https://localhost:8080/"
        },
        "id": "1km7xlbsSTir",
        "outputId": "92c227f7-4fd3-445a-b525-bb8bac3469e5"
      },
      "execution_count": null,
      "outputs": [
        {
          "output_type": "stream",
          "name": "stdout",
          "text": [
            "{'\\n': 0, ' ': 1, \"'\": 2, '(': 3, ')': 4, ',': 5, '-': 6, '.': 7, ':': 8, '?': 9, 'A': 10, 'R': 11, 'S': 12, 'W': 13, 'a': 14, 'b': 15, 'c': 16, 'd': 17, 'e': 18, 'f': 19, 'g': 20, 'h': 21, 'i': 22, 'k': 23, 'l': 24, 'm': 25, 'n': 26, 'o': 27, 'p': 28, 'r': 29, 's': 30, 't': 31, 'u': 32, 'v': 33, 'w': 34, 'y': 35}\n",
            "{0: '\\n', 1: ' ', 2: \"'\", 3: '(', 4: ')', 5: ',', 6: '-', 7: '.', 8: ':', 9: '?', 10: 'A', 11: 'R', 12: 'S', 13: 'W', 14: 'a', 15: 'b', 16: 'c', 17: 'd', 18: 'e', 19: 'f', 20: 'g', 21: 'h', 22: 'i', 23: 'k', 24: 'l', 25: 'm', 26: 'n', 27: 'o', 28: 'p', 29: 'r', 30: 's', 31: 't', 32: 'u', 33: 'v', 34: 'w', 35: 'y'}\n"
          ]
        }
      ]
    },
    {
      "cell_type": "code",
      "source": [],
      "metadata": {
        "id": "4R7urB7cXIHw"
      },
      "execution_count": null,
      "outputs": []
    }
  ]
}